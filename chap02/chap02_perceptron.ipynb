{
 "cells": [
  {
   "cell_type": "markdown",
   "metadata": {},
   "source": [
    "### 퍼셉트론 구현하기"
   ]
  },
  {
   "cell_type": "code",
   "execution_count": 20,
   "metadata": {},
   "outputs": [
    {
     "name": "stdout",
     "output_type": "stream",
     "text": [
      "0\n",
      "0\n",
      "0\n",
      "1\n"
     ]
    }
   ],
   "source": [
    "# 간단한 구현부터\n",
    "def AND(x1, x2):\n",
    "    w1, w2, theta = 0.5, 0.5, 0.7\n",
    "    tmp = x1 * w1 + x2 * w2\n",
    "    if tmp <= theta:\n",
    "        return 0\n",
    "    else:\n",
    "        return 1\n",
    "    \n",
    "print(AND(0, 0))\n",
    "print(AND(0, 1))\n",
    "print(AND(1, 0))\n",
    "print(AND(1, 1))"
   ]
  },
  {
   "cell_type": "code",
   "execution_count": 21,
   "metadata": {},
   "outputs": [
    {
     "name": "stdout",
     "output_type": "stream",
     "text": [
      "[0.  0.5]\n",
      "0.5\n",
      "-0.19999999999999996\n"
     ]
    }
   ],
   "source": [
    "# 가중치와 편향 도입\n",
    "import numpy as np\n",
    "\n",
    "x = np.array([0, 1])\n",
    "w = np.array([0.5, 0.5])\n",
    "b = -0.7\n",
    "\n",
    "print(w * x)\n",
    "print(np.sum(x * w))\n",
    "print(np.sum(x*w) + b)"
   ]
  },
  {
   "cell_type": "code",
   "execution_count": 22,
   "metadata": {},
   "outputs": [
    {
     "name": "stdout",
     "output_type": "stream",
     "text": [
      "AND(0, 0): 0\n",
      "AND(0, 1): 0\n",
      "AND(1, 0): 0\n",
      "AND(1, 1): 1\n"
     ]
    }
   ],
   "source": [
    "# 가중치와 편향 구현하기\n",
    "def AND(x1, x2):\n",
    "    x = np.array([x1, x2])\n",
    "    w = np.array([0.5, 0.5])\n",
    "    b = -0.7\n",
    "    tmp = np.sum(w * x) + b\n",
    "\n",
    "    if tmp <= 0:\n",
    "        return 0\n",
    "    else:\n",
    "        return 1\n",
    "    \n",
    "print(\"AND(0, 0):\", AND(0, 0))\n",
    "print(\"AND(0, 1):\", AND(0, 1))\n",
    "print(\"AND(1, 0):\", AND(1, 0))\n",
    "print(\"AND(1, 1):\", AND(1, 1))"
   ]
  },
  {
   "cell_type": "code",
   "execution_count": 23,
   "metadata": {},
   "outputs": [
    {
     "name": "stdout",
     "output_type": "stream",
     "text": [
      "NAND(0, 0): 1\n",
      "NAND(0, 1): 1\n",
      "NAND(1, 0): 1\n",
      "NAND(1, 1): 0\n",
      "OR(0, 0): 0\n",
      "OR(0, 1): 1\n",
      "OR(1, 0): 1\n",
      "OR(1, 1): 1\n"
     ]
    }
   ],
   "source": [
    "# NAND Gate\n",
    "def NAND(x1, x2):\n",
    "    x = np.array([x1, x2])\n",
    "    w = np.array([-0.5, -0.5])\n",
    "    b = 0.7\n",
    "    tmp = np.sum(w * x) + b\n",
    "\n",
    "    if tmp <= 0:\n",
    "        return 0\n",
    "    else:\n",
    "        return 1\n",
    "\n",
    "# OR Gate\n",
    "def OR(x1, x2):\n",
    "    x = np.array([x1, x2])\n",
    "    w = np.array([0.5, 0.5])\n",
    "    b = -0.2\n",
    "    tmp = np.sum(w * x) + b\n",
    "\n",
    "    if tmp <= 0:\n",
    "        return 0\n",
    "    else:\n",
    "        return 1\n",
    "\n",
    "print(\"NAND(0, 0):\", NAND(0, 0))\n",
    "print(\"NAND(0, 1):\", NAND(0, 1))\n",
    "print(\"NAND(1, 0):\", NAND(1, 0))\n",
    "print(\"NAND(1, 1):\", NAND(1, 1))\n",
    "print(\"OR(0, 0):\", OR(0, 0))\n",
    "print(\"OR(0, 1):\", OR(0, 1))\n",
    "print(\"OR(1, 0):\", OR(1, 0))\n",
    "print(\"OR(1, 1):\", OR(1, 1))"
   ]
  },
  {
   "cell_type": "markdown",
   "metadata": {},
   "source": [
    "|x1|x2|OR|AND|NAND|\n",
    "|--|--|--|--|--|\n",
    "|0|0|0|0|1|\n",
    "|0|1|1|0|1|\n",
    "|1|0|1|0|1|\n",
    "|1|1|1|1|0|\n",
    "\n",
    "NAND와 OR의 값을 AND 하여 XOR 값을 구함"
   ]
  },
  {
   "cell_type": "code",
   "execution_count": 26,
   "metadata": {},
   "outputs": [
    {
     "name": "stdout",
     "output_type": "stream",
     "text": [
      "XOR(0, 0): 0\n",
      "XOR(0, 1): 1\n",
      "XOR(1, 0): 1\n",
      "XOR(1, 1): 0\n"
     ]
    }
   ],
   "source": [
    "# XOR Gate\n",
    "def XOR(x1, x2):\n",
    "    s1 = NAND(x1, x2)\n",
    "    s2 = OR(x1, x2)\n",
    "    y = AND(s1, s2)\n",
    "    return y\n",
    "\n",
    "print(\"XOR(0, 0):\", XOR(0, 0))\n",
    "print(\"XOR(0, 1):\", XOR(0, 1))\n",
    "print(\"XOR(1, 0):\", XOR(1, 0))\n",
    "print(\"XOR(1, 1):\", XOR(1, 1))"
   ]
  },
  {
   "cell_type": "code",
   "execution_count": null,
   "metadata": {},
   "outputs": [],
   "source": []
  }
 ],
 "metadata": {
  "kernelspec": {
   "display_name": "base",
   "language": "python",
   "name": "python3"
  },
  "language_info": {
   "codemirror_mode": {
    "name": "ipython",
    "version": 3
   },
   "file_extension": ".py",
   "mimetype": "text/x-python",
   "name": "python",
   "nbconvert_exporter": "python",
   "pygments_lexer": "ipython3",
   "version": "3.11.3"
  },
  "orig_nbformat": 4
 },
 "nbformat": 4,
 "nbformat_minor": 2
}
