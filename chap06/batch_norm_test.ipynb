{
 "cells": [
  {
   "cell_type": "code",
   "execution_count": 7,
   "metadata": {
    "ExecuteTime": {
     "end_time": "2023-09-05T05:46:55.719068Z",
     "start_time": "2023-09-05T05:46:55.707646Z"
    }
   },
   "outputs": [],
   "source": [
    "import numpy as np\n",
    "import matplotlib.pyplot as plt\n",
    "from dataset.mnist import load_mnist\n",
    "from common.multi_layer_net_extend import MultiLayerNetExtend\n",
    "from common.optimizer import SGD, Adam"
   ]
  },
  {
   "cell_type": "code",
   "execution_count": 8,
   "metadata": {
    "ExecuteTime": {
     "end_time": "2023-09-05T05:46:55.775429Z",
     "start_time": "2023-09-05T05:46:55.712705Z"
    }
   },
   "outputs": [],
   "source": [
    "(x_train, t_train), (x_test, t_test) = load_mnist(normalize=True)\n",
    "\n",
    "# 학습 데이터를 줄임\n",
    "x_train = x_train[:1000]\n",
    "t_train = t_train[:1000]\n",
    "\n",
    "max_epochs = 20\n",
    "train_size = x_train.shape[0]\n",
    "batch_size = 100\n",
    "learning_rate = 0.01"
   ]
  },
  {
   "cell_type": "code",
   "execution_count": 9,
   "metadata": {
    "ExecuteTime": {
     "end_time": "2023-09-05T05:46:55.780577Z",
     "start_time": "2023-09-05T05:46:55.777382Z"
    }
   },
   "outputs": [],
   "source": [
    "def __train(weight_init_std):\n",
    "    bn_network = MultiLayerNetExtend(input_size=784, hidden_size_list=[100, 100, 100, 100, 100], output_size=10, weight_init_std=weight_init_std, use_batchnorm=True)\n",
    "\n",
    "    network = MultiLayerNetExtend(input_size=784, hidden_size_list=[100, 100, 100, 100, 100], output_size=10, weight_init_std=weight_init_std)\n",
    "\n",
    "    optimizer = SGD(lr=learning_rate)\n",
    "\n",
    "    train_acc_list = []\n",
    "    bn_train_acc_list = []\n",
    "\n",
    "    iter_per_epoch = max(train_size / batch_size, 1)\n",
    "    epcoh_cnt = 0\n",
    "\n",
    "    for i in range(100):\n",
    "        batch_mask = np.random.choice(train_size, batch_size)\n",
    "        x_batch = x_train[batch_mask]\n",
    "        t_batch = t_train[batch_mask]\n",
    "\n",
    "        for _network in (bn_network, network):\n",
    "            grads = _network.gradient(x_batch, t_batch)\n",
    "            optimizer.update(_network.params, grads)\n",
    "\n",
    "            if i % iter_per_epoch == 0:\n",
    "                train_acc = network.accuracy(x_train, t_train)\n",
    "                bn_train_acc = bn_network.accuracy(x_train, t_train)\n",
    "                train_acc_list.append(train_acc)\n",
    "                bn_train_acc_list.append(bn_train_acc)\n",
    "\n",
    "                print(\"epoch: \" + str(epcoh_cnt) + \" | \" + str(train_acc) + \"-\" + str(bn_train_acc))\n",
    "\n",
    "                epcoh_cnt += 1\n",
    "\n",
    "                if epcoh_cnt >= max_epochs:\n",
    "                    break\n",
    "\n",
    "    return train_acc_list, bn_train_acc_list"
   ]
  },
  {
   "cell_type": "code",
   "execution_count": 10,
   "metadata": {
    "tags": [],
    "ExecuteTime": {
     "end_time": "2023-09-05T05:47:28.108295Z",
     "start_time": "2023-09-05T05:46:55.781949Z"
    }
   },
   "outputs": [
    {
     "name": "stdout",
     "output_type": "stream",
     "text": [
      "=============1/16==============\n",
      "epoch: 0 | 0.105-0.11\n",
      "epoch: 1 | 0.099-0.11\n",
      "epoch: 2 | 0.097-0.142\n",
      "epoch: 3 | 0.097-0.142\n",
      "epoch: 4 | 0.097-0.17\n",
      "epoch: 5 | 0.097-0.17\n",
      "epoch: 6 | 0.097-0.2\n",
      "epoch: 7 | 0.097-0.2\n",
      "epoch: 8 | 0.097-0.221\n",
      "epoch: 9 | 0.097-0.221\n",
      "epoch: 10 | 0.097-0.232\n",
      "epoch: 11 | 0.097-0.232\n",
      "epoch: 12 | 0.097-0.249\n",
      "epoch: 13 | 0.097-0.249\n",
      "epoch: 14 | 0.097-0.259\n",
      "epoch: 15 | 0.097-0.259\n",
      "epoch: 16 | 0.097-0.269\n",
      "epoch: 17 | 0.097-0.269\n",
      "epoch: 18 | 0.097-0.288\n",
      "epoch: 19 | 0.097-0.288\n"
     ]
    },
    {
     "name": "stderr",
     "output_type": "stream",
     "text": [
      "No artists with labels found to put in legend.  Note that artists whose label start with an underscore are ignored when legend() is called with no argument.\n"
     ]
    },
    {
     "name": "stdout",
     "output_type": "stream",
     "text": [
      "=============2/16==============\n",
      "epoch: 0 | 0.109-0.109\n",
      "epoch: 1 | 0.105-0.109\n",
      "epoch: 2 | 0.097-0.104\n",
      "epoch: 3 | 0.097-0.104\n",
      "epoch: 4 | 0.097-0.129\n",
      "epoch: 5 | 0.097-0.129\n",
      "epoch: 6 | 0.097-0.151\n",
      "epoch: 7 | 0.097-0.151\n",
      "epoch: 8 | 0.097-0.182\n",
      "epoch: 9 | 0.097-0.182\n",
      "epoch: 10 | 0.097-0.197\n",
      "epoch: 11 | 0.097-0.197\n",
      "epoch: 12 | 0.097-0.225\n",
      "epoch: 13 | 0.097-0.225\n",
      "epoch: 14 | 0.097-0.251\n",
      "epoch: 15 | 0.097-0.251\n",
      "epoch: 16 | 0.097-0.276\n",
      "epoch: 17 | 0.097-0.276\n"
     ]
    },
    {
     "name": "stderr",
     "output_type": "stream",
     "text": [
      "No artists with labels found to put in legend.  Note that artists whose label start with an underscore are ignored when legend() is called with no argument.\n"
     ]
    },
    {
     "name": "stdout",
     "output_type": "stream",
     "text": [
      "epoch: 18 | 0.097-0.305\n",
      "epoch: 19 | 0.097-0.305\n",
      "=============3/16==============\n",
      "epoch: 0 | 0.078-0.116\n",
      "epoch: 1 | 0.135-0.116\n",
      "epoch: 2 | 0.367-0.134\n",
      "epoch: 3 | 0.393-0.134\n",
      "epoch: 4 | 0.509-0.164\n",
      "epoch: 5 | 0.507-0.164\n",
      "epoch: 6 | 0.604-0.19\n",
      "epoch: 7 | 0.618-0.19\n",
      "epoch: 8 | 0.664-0.221\n",
      "epoch: 9 | 0.659-0.221\n",
      "epoch: 10 | 0.722-0.243\n",
      "epoch: 11 | 0.736-0.243\n",
      "epoch: 12 | 0.784-0.282\n",
      "epoch: 13 | 0.777-0.282\n",
      "epoch: 14 | 0.803-0.319\n",
      "epoch: 15 | 0.808-0.319\n",
      "epoch: 16 | 0.841-0.353\n",
      "epoch: 17 | 0.845-0.353\n"
     ]
    },
    {
     "name": "stderr",
     "output_type": "stream",
     "text": [
      "No artists with labels found to put in legend.  Note that artists whose label start with an underscore are ignored when legend() is called with no argument.\n"
     ]
    },
    {
     "name": "stdout",
     "output_type": "stream",
     "text": [
      "epoch: 18 | 0.873-0.381\n",
      "epoch: 19 | 0.878-0.381\n",
      "=============4/16==============\n",
      "epoch: 0 | 0.078-0.091\n",
      "epoch: 1 | 0.106-0.091\n",
      "epoch: 2 | 0.223-0.125\n",
      "epoch: 3 | 0.244-0.125\n",
      "epoch: 4 | 0.354-0.229\n",
      "epoch: 5 | 0.374-0.229\n",
      "epoch: 6 | 0.476-0.301\n",
      "epoch: 7 | 0.491-0.301\n",
      "epoch: 8 | 0.545-0.356\n",
      "epoch: 9 | 0.547-0.356\n",
      "epoch: 10 | 0.592-0.414\n",
      "epoch: 11 | 0.602-0.414\n",
      "epoch: 12 | 0.651-0.471\n",
      "epoch: 13 | 0.667-0.471\n",
      "epoch: 14 | 0.675-0.498\n",
      "epoch: 15 | 0.674-0.498\n",
      "epoch: 16 | 0.708-0.527\n",
      "epoch: 17 | 0.718-0.527\n",
      "epoch: 18 | 0.735-0.565\n"
     ]
    },
    {
     "name": "stderr",
     "output_type": "stream",
     "text": [
      "No artists with labels found to put in legend.  Note that artists whose label start with an underscore are ignored when legend() is called with no argument.\n"
     ]
    },
    {
     "name": "stdout",
     "output_type": "stream",
     "text": [
      "epoch: 19 | 0.731-0.565\n",
      "=============5/16==============\n",
      "epoch: 0 | 0.095-0.117\n",
      "epoch: 1 | 0.096-0.117\n",
      "epoch: 2 | 0.097-0.148\n",
      "epoch: 3 | 0.097-0.148\n",
      "epoch: 4 | 0.101-0.251\n",
      "epoch: 5 | 0.101-0.251\n",
      "epoch: 6 | 0.111-0.389\n",
      "epoch: 7 | 0.111-0.389\n",
      "epoch: 8 | 0.132-0.525\n",
      "epoch: 9 | 0.134-0.525\n",
      "epoch: 10 | 0.152-0.6\n",
      "epoch: 11 | 0.152-0.6\n",
      "epoch: 12 | 0.158-0.661\n",
      "epoch: 13 | 0.156-0.661\n",
      "epoch: 14 | 0.161-0.706\n",
      "epoch: 15 | 0.162-0.706\n",
      "epoch: 16 | 0.169-0.738\n",
      "epoch: 17 | 0.169-0.738\n",
      "epoch: 18 | 0.172-0.773\n"
     ]
    },
    {
     "name": "stderr",
     "output_type": "stream",
     "text": [
      "No artists with labels found to put in legend.  Note that artists whose label start with an underscore are ignored when legend() is called with no argument.\n"
     ]
    },
    {
     "name": "stdout",
     "output_type": "stream",
     "text": [
      "epoch: 19 | 0.174-0.773\n",
      "=============6/16==============\n",
      "epoch: 0 | 0.092-0.11\n",
      "epoch: 1 | 0.09-0.11\n",
      "epoch: 2 | 0.093-0.195\n",
      "epoch: 3 | 0.093-0.195\n",
      "epoch: 4 | 0.157-0.406\n",
      "epoch: 5 | 0.15-0.406\n",
      "epoch: 6 | 0.117-0.543\n",
      "epoch: 7 | 0.117-0.543\n",
      "epoch: 8 | 0.12-0.653\n",
      "epoch: 9 | 0.122-0.653\n",
      "epoch: 10 | 0.121-0.725\n",
      "epoch: 11 | 0.122-0.725\n",
      "epoch: 12 | 0.117-0.768\n",
      "epoch: 13 | 0.117-0.768\n",
      "epoch: 14 | 0.117-0.801\n",
      "epoch: 15 | 0.117-0.801\n",
      "epoch: 16 | 0.117-0.814\n",
      "epoch: 17 | 0.117-0.814\n",
      "epoch: 18 | 0.117-0.834\n",
      "epoch: 19 | 0.117-0.834\n"
     ]
    },
    {
     "name": "stderr",
     "output_type": "stream",
     "text": [
      "No artists with labels found to put in legend.  Note that artists whose label start with an underscore are ignored when legend() is called with no argument.\n"
     ]
    },
    {
     "name": "stdout",
     "output_type": "stream",
     "text": [
      "=============7/16==============\n",
      "epoch: 0 | 0.117-0.178\n",
      "epoch: 1 | 0.097-0.178\n",
      "epoch: 2 | 0.116-0.216\n",
      "epoch: 3 | 0.116-0.216\n",
      "epoch: 4 | 0.116-0.462\n",
      "epoch: 5 | 0.116-0.462\n",
      "epoch: 6 | 0.116-0.636\n",
      "epoch: 7 | 0.105-0.636\n",
      "epoch: 8 | 0.105-0.724\n",
      "epoch: 9 | 0.105-0.724\n",
      "epoch: 10 | 0.116-0.746\n",
      "epoch: 11 | 0.116-0.746\n",
      "epoch: 12 | 0.116-0.782\n",
      "epoch: 13 | 0.116-0.782\n",
      "epoch: 14 | 0.116-0.814\n",
      "epoch: 15 | 0.116-0.814\n",
      "epoch: 16 | 0.116-0.842\n",
      "epoch: 17 | 0.116-0.842\n",
      "epoch: 18 | 0.116-0.865\n",
      "epoch: 19 | 0.116-0.865\n"
     ]
    },
    {
     "name": "stderr",
     "output_type": "stream",
     "text": [
      "No artists with labels found to put in legend.  Note that artists whose label start with an underscore are ignored when legend() is called with no argument.\n"
     ]
    },
    {
     "name": "stdout",
     "output_type": "stream",
     "text": [
      "=============8/16==============\n",
      "epoch: 0 | 0.12-0.116\n",
      "epoch: 1 | 0.119-0.116\n",
      "epoch: 2 | 0.117-0.357\n",
      "epoch: 3 | 0.117-0.357\n",
      "epoch: 4 | 0.117-0.636\n",
      "epoch: 5 | 0.117-0.636\n",
      "epoch: 6 | 0.117-0.726\n",
      "epoch: 7 | 0.117-0.726\n",
      "epoch: 8 | 0.117-0.811\n",
      "epoch: 9 | 0.117-0.811\n",
      "epoch: 10 | 0.117-0.869\n",
      "epoch: 11 | 0.117-0.869\n",
      "epoch: 12 | 0.117-0.894\n",
      "epoch: 13 | 0.117-0.894\n",
      "epoch: 14 | 0.117-0.923\n",
      "epoch: 15 | 0.117-0.923\n",
      "epoch: 16 | 0.117-0.949\n",
      "epoch: 17 | 0.117-0.949\n"
     ]
    },
    {
     "name": "stderr",
     "output_type": "stream",
     "text": [
      "No artists with labels found to put in legend.  Note that artists whose label start with an underscore are ignored when legend() is called with no argument.\n"
     ]
    },
    {
     "name": "stdout",
     "output_type": "stream",
     "text": [
      "epoch: 18 | 0.117-0.965\n",
      "epoch: 19 | 0.117-0.965\n",
      "=============9/16==============\n",
      "epoch: 0 | 0.101-0.112\n",
      "epoch: 1 | 0.117-0.112\n",
      "epoch: 2 | 0.1-0.576\n",
      "epoch: 3 | 0.1-0.576\n",
      "epoch: 4 | 0.117-0.718\n",
      "epoch: 5 | 0.117-0.718\n",
      "epoch: 6 | 0.117-0.802\n",
      "epoch: 7 | 0.117-0.802\n",
      "epoch: 8 | 0.117-0.846\n",
      "epoch: 9 | 0.117-0.846\n",
      "epoch: 10 | 0.117-0.906\n",
      "epoch: 11 | 0.117-0.906\n",
      "epoch: 12 | 0.117-0.946\n",
      "epoch: 13 | 0.117-0.946\n",
      "epoch: 14 | 0.117-0.972\n",
      "epoch: 15 | 0.117-0.972\n",
      "epoch: 16 | 0.117-0.983\n",
      "epoch: 17 | 0.117-0.983\n"
     ]
    },
    {
     "name": "stderr",
     "output_type": "stream",
     "text": [
      "No artists with labels found to put in legend.  Note that artists whose label start with an underscore are ignored when legend() is called with no argument.\n"
     ]
    },
    {
     "name": "stdout",
     "output_type": "stream",
     "text": [
      "epoch: 18 | 0.117-0.99\n",
      "epoch: 19 | 0.117-0.99\n",
      "=============10/16==============\n",
      "epoch: 0 | 0.106-0.129\n",
      "epoch: 1 | 0.117-0.129\n",
      "epoch: 2 | 0.117-0.62\n",
      "epoch: 3 | 0.117-0.62\n",
      "epoch: 4 | 0.117-0.725\n",
      "epoch: 5 | 0.117-0.725\n",
      "epoch: 6 | 0.117-0.759\n",
      "epoch: 7 | 0.117-0.759\n",
      "epoch: 8 | 0.117-0.76\n",
      "epoch: 9 | 0.117-0.76\n",
      "epoch: 10 | 0.117-0.841\n",
      "epoch: 11 | 0.117-0.841\n",
      "epoch: 12 | 0.116-0.876\n",
      "epoch: 13 | 0.116-0.876\n",
      "epoch: 14 | 0.116-0.943\n",
      "epoch: 15 | 0.116-0.943\n",
      "epoch: 16 | 0.116-0.98\n",
      "epoch: 17 | 0.116-0.98\n",
      "epoch: 18 | 0.117-0.934\n",
      "epoch: 19 | 0.117-0.934\n"
     ]
    },
    {
     "name": "stderr",
     "output_type": "stream",
     "text": [
      "No artists with labels found to put in legend.  Note that artists whose label start with an underscore are ignored when legend() is called with no argument.\n"
     ]
    },
    {
     "name": "stdout",
     "output_type": "stream",
     "text": [
      "=============11/16==============\n",
      "epoch: 0 | 0.133-0.097\n",
      "epoch: 1 | 0.105-0.097\n",
      "epoch: 2 | 0.116-0.516\n",
      "epoch: 3 | 0.116-0.516\n",
      "epoch: 4 | 0.116-0.628\n",
      "epoch: 5 | 0.117-0.628\n",
      "epoch: 6 | 0.117-0.698\n",
      "epoch: 7 | 0.117-0.698\n",
      "epoch: 8 | 0.117-0.659\n",
      "epoch: 9 | 0.117-0.659\n",
      "epoch: 10 | 0.117-0.754\n",
      "epoch: 11 | 0.117-0.754\n",
      "epoch: 12 | 0.117-0.777\n",
      "epoch: 13 | 0.117-0.777\n",
      "epoch: 14 | 0.117-0.796\n",
      "epoch: 15 | 0.117-0.796\n",
      "epoch: 16 | 0.117-0.786\n",
      "epoch: 17 | 0.117-0.786\n"
     ]
    },
    {
     "name": "stderr",
     "output_type": "stream",
     "text": [
      "No artists with labels found to put in legend.  Note that artists whose label start with an underscore are ignored when legend() is called with no argument.\n"
     ]
    },
    {
     "name": "stdout",
     "output_type": "stream",
     "text": [
      "epoch: 18 | 0.117-0.802\n",
      "epoch: 19 | 0.117-0.802\n",
      "=============12/16==============\n",
      "epoch: 0 | 0.107-0.11\n",
      "epoch: 1 | 0.105-0.11\n",
      "epoch: 2 | 0.116-0.534\n",
      "epoch: 3 | 0.117-0.534\n",
      "epoch: 4 | 0.117-0.681\n",
      "epoch: 5 | 0.117-0.681\n",
      "epoch: 6 | 0.117-0.729\n",
      "epoch: 7 | 0.117-0.729\n",
      "epoch: 8 | 0.117-0.769\n",
      "epoch: 9 | 0.117-0.769\n",
      "epoch: 10 | 0.117-0.674\n",
      "epoch: 11 | 0.117-0.674\n",
      "epoch: 12 | 0.117-0.781\n",
      "epoch: 13 | 0.117-0.781\n",
      "epoch: 14 | 0.117-0.796\n",
      "epoch: 15 | 0.117-0.796\n",
      "epoch: 16 | 0.117-0.822\n",
      "epoch: 17 | 0.117-0.822\n"
     ]
    },
    {
     "name": "stderr",
     "output_type": "stream",
     "text": [
      "No artists with labels found to put in legend.  Note that artists whose label start with an underscore are ignored when legend() is called with no argument.\n"
     ]
    },
    {
     "name": "stdout",
     "output_type": "stream",
     "text": [
      "epoch: 18 | 0.117-0.835\n",
      "epoch: 19 | 0.117-0.835\n",
      "=============13/16==============\n",
      "epoch: 0 | 0.091-0.248\n",
      "epoch: 1 | 0.099-0.248\n",
      "epoch: 2 | 0.116-0.448\n",
      "epoch: 3 | 0.116-0.448\n",
      "epoch: 4 | 0.116-0.531\n",
      "epoch: 5 | 0.116-0.531\n",
      "epoch: 6 | 0.117-0.555\n",
      "epoch: 7 | 0.116-0.555\n",
      "epoch: 8 | 0.117-0.616\n",
      "epoch: 9 | 0.117-0.616\n",
      "epoch: 10 | 0.117-0.659\n",
      "epoch: 11 | 0.117-0.659\n",
      "epoch: 12 | 0.117-0.667\n",
      "epoch: 13 | 0.117-0.667\n",
      "epoch: 14 | 0.117-0.695\n",
      "epoch: 15 | 0.117-0.695\n",
      "epoch: 16 | 0.116-0.706\n",
      "epoch: 17 | 0.116-0.706\n",
      "epoch: 18 | 0.116-0.723\n",
      "epoch: 19 | 0.116-0.723\n"
     ]
    },
    {
     "name": "stderr",
     "output_type": "stream",
     "text": [
      "No artists with labels found to put in legend.  Note that artists whose label start with an underscore are ignored when legend() is called with no argument.\n"
     ]
    },
    {
     "name": "stdout",
     "output_type": "stream",
     "text": [
      "=============14/16==============\n",
      "epoch: 0 | 0.113-0.092\n",
      "epoch: 1 | 0.092-0.092\n",
      "epoch: 2 | 0.1-0.432\n",
      "epoch: 3 | 0.1-0.432\n",
      "epoch: 4 | 0.116-0.445\n",
      "epoch: 5 | 0.116-0.445\n",
      "epoch: 6 | 0.116-0.484\n",
      "epoch: 7 | 0.116-0.484\n",
      "epoch: 8 | 0.116-0.523\n",
      "epoch: 9 | 0.116-0.523\n",
      "epoch: 10 | 0.116-0.563\n",
      "epoch: 11 | 0.116-0.563\n",
      "epoch: 12 | 0.116-0.537\n",
      "epoch: 13 | 0.116-0.537\n",
      "epoch: 14 | 0.116-0.587\n",
      "epoch: 15 | 0.116-0.587\n",
      "epoch: 16 | 0.116-0.596\n",
      "epoch: 17 | 0.116-0.596\n"
     ]
    },
    {
     "name": "stderr",
     "output_type": "stream",
     "text": [
      "No artists with labels found to put in legend.  Note that artists whose label start with an underscore are ignored when legend() is called with no argument.\n"
     ]
    },
    {
     "name": "stdout",
     "output_type": "stream",
     "text": [
      "epoch: 18 | 0.116-0.534\n",
      "epoch: 19 | 0.116-0.534\n",
      "=============15/16==============\n",
      "epoch: 0 | 0.118-0.119\n",
      "epoch: 1 | 0.116-0.119\n",
      "epoch: 2 | 0.105-0.311\n",
      "epoch: 3 | 0.105-0.311\n",
      "epoch: 4 | 0.105-0.459\n",
      "epoch: 5 | 0.105-0.459\n",
      "epoch: 6 | 0.117-0.486\n",
      "epoch: 7 | 0.105-0.486\n",
      "epoch: 8 | 0.117-0.496\n",
      "epoch: 9 | 0.117-0.496\n",
      "epoch: 10 | 0.117-0.427\n",
      "epoch: 11 | 0.117-0.427\n",
      "epoch: 12 | 0.117-0.511\n",
      "epoch: 13 | 0.117-0.511\n",
      "epoch: 14 | 0.117-0.504\n",
      "epoch: 15 | 0.117-0.504\n",
      "epoch: 16 | 0.117-0.512\n",
      "epoch: 17 | 0.117-0.512\n"
     ]
    },
    {
     "name": "stderr",
     "output_type": "stream",
     "text": [
      "No artists with labels found to put in legend.  Note that artists whose label start with an underscore are ignored when legend() is called with no argument.\n"
     ]
    },
    {
     "name": "stdout",
     "output_type": "stream",
     "text": [
      "epoch: 18 | 0.117-0.515\n",
      "epoch: 19 | 0.117-0.515\n",
      "=============16/16==============\n",
      "epoch: 0 | 0.092-0.094\n",
      "epoch: 1 | 0.1-0.094\n",
      "epoch: 2 | 0.1-0.204\n",
      "epoch: 3 | 0.1-0.204\n",
      "epoch: 4 | 0.116-0.343\n",
      "epoch: 5 | 0.116-0.343\n",
      "epoch: 6 | 0.117-0.377\n",
      "epoch: 7 | 0.117-0.377\n",
      "epoch: 8 | 0.117-0.396\n",
      "epoch: 9 | 0.117-0.396\n",
      "epoch: 10 | 0.117-0.406\n",
      "epoch: 11 | 0.117-0.406\n",
      "epoch: 12 | 0.117-0.415\n",
      "epoch: 13 | 0.117-0.415\n",
      "epoch: 14 | 0.117-0.418\n",
      "epoch: 15 | 0.117-0.418\n",
      "epoch: 16 | 0.117-0.415\n",
      "epoch: 17 | 0.117-0.415\n",
      "epoch: 18 | 0.117-0.417\n",
      "epoch: 19 | 0.117-0.417\n"
     ]
    },
    {
     "data": {
      "text/plain": "<Figure size 640x480 with 16 Axes>",
      "image/png": "[encoded data removed]"
     },
     "metadata": {},
     "output_type": "display_data"
    }
   ],
   "source": [
    "# 그래프로 그리기\n",
    "weight_scale_list = np.logspace(0, -4, num=16)\n",
    "x = np.arange(max_epochs)\n",
    "\n",
    "for i, w in enumerate(weight_scale_list):\n",
    "    print(\"=============\" + str(i + 1) + \"/16\" + \"==============\")\n",
    "    train_acc_list, bn_train_acc_list = __train(w)\n",
    "\n",
    "    plt.subplot(4, 4, i + 1)\n",
    "    plt.title(\"W: \" + str(w))\n",
    "    if i == 15:\n",
    "        plt.plot(x, bn_train_acc_list, label='Batch Normalization', markevery=2)\n",
    "        plt.plot(x, train_acc_list, linestyle=\"--\", label='Normal(without BatchNorm)', markevery=2)\n",
    "    else:\n",
    "        plt.plot(x, bn_train_acc_list, markevery=2)\n",
    "        plt.plot(x, train_acc_list, linestyle=\"--\", markevery=2)\n",
    "\n",
    "    plt.ylim(0, 1.0)\n",
    "    \n",
    "    if i % 4:\n",
    "        plt.yticks([])\n",
    "    else:\n",
    "        plt.ylabel(\"accuracy\")\n",
    "\n",
    "    if i < 12:\n",
    "        plt.xticks([])\n",
    "    else:\n",
    "        plt.xlabel(\"epochs\")\n",
    "    \n",
    "    plt.legend(loc='lower right')\n",
    "\n",
    "plt.show()"
   ]
  },
  {
   "cell_type": "code",
   "execution_count": 10,
   "outputs": [],
   "source": [],
   "metadata": {
    "collapsed": false,
    "ExecuteTime": {
     "end_time": "2023-09-05T05:47:28.111406Z",
     "start_time": "2023-09-05T05:47:28.108086Z"
    }
   }
  }
 ],
 "metadata": {
  "kernelspec": {
   "display_name": "Python 3 (ipykernel)",
   "language": "python",
   "name": "python3"
  },
  "language_info": {
   "codemirror_mode": {
    "name": "ipython",
    "version": 3
   },
   "file_extension": ".py",
   "mimetype": "text/x-python",
   "name": "python",
   "nbconvert_exporter": "python",
   "pygments_lexer": "ipython3",
   "version": "3.11.4"
  }
 },
 "nbformat": 4,
 "nbformat_minor": 4
}
