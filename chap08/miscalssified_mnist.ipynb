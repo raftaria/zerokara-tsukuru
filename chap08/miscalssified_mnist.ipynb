{
 "cells": [
  {
   "cell_type": "code",
   "execution_count": 1,
   "id": "initial_id",
   "metadata": {
    "collapsed": true,
    "ExecuteTime": {
     "end_time": "2023-09-23T07:35:29.075059Z",
     "start_time": "2023-09-23T07:35:28.694118Z"
    }
   },
   "outputs": [],
   "source": [
    "import numpy as np\n",
    "import matplotlib.pyplot as plt\n",
    "from deep_convnet import DeepConvNet\n",
    "from dataset.mnist import load_mnist"
   ]
  },
  {
   "cell_type": "code",
   "execution_count": 2,
   "outputs": [],
   "source": [
    "(x_train, t_train), (x_test, t_test) = load_mnist(flatten=False)"
   ],
   "metadata": {
    "collapsed": false,
    "ExecuteTime": {
     "end_time": "2023-09-23T07:35:29.132548Z",
     "start_time": "2023-09-23T07:35:29.075866Z"
    }
   },
   "id": "607e8b19d912b345"
  },
  {
   "cell_type": "code",
   "execution_count": 3,
   "outputs": [],
   "source": [
    "network = DeepConvNet()\n",
    "network.load_params(\"deep_convnet_params.pkl\")"
   ],
   "metadata": {
    "collapsed": false,
    "ExecuteTime": {
     "end_time": "2023-09-23T07:35:29.142083Z",
     "start_time": "2023-09-23T07:35:29.133450Z"
    }
   },
   "id": "13a67d95c0a48ccf"
  },
  {
   "cell_type": "code",
   "execution_count": 4,
   "outputs": [
    {
     "name": "stdout",
     "output_type": "stream",
     "text": [
      "Calculating test accuracy ... \n"
     ]
    }
   ],
   "source": [
    "print(\"Calculating test accuracy ... \")\n",
    "# sampled = 10000\n",
    "# x_test = x_test[:sampled]\n",
    "# t_test = t_test[:sampled]"
   ],
   "metadata": {
    "collapsed": false,
    "ExecuteTime": {
     "end_time": "2023-09-23T07:35:29.150622Z",
     "start_time": "2023-09-23T07:35:29.140764Z"
    }
   },
   "id": "4552a28f310e4c20"
  },
  {
   "cell_type": "code",
   "execution_count": 5,
   "outputs": [],
   "source": [
    "classified_idx = []"
   ],
   "metadata": {
    "collapsed": false,
    "ExecuteTime": {
     "end_time": "2023-09-23T07:35:29.150844Z",
     "start_time": "2023-09-23T07:35:29.145029Z"
    }
   },
   "id": "657a6c5a7be455e7"
  },
  {
   "cell_type": "code",
   "execution_count": 6,
   "outputs": [],
   "source": [
    "acc = 0.0\n",
    "batch_size = 100"
   ],
   "metadata": {
    "collapsed": false,
    "ExecuteTime": {
     "end_time": "2023-09-23T07:35:29.168269Z",
     "start_time": "2023-09-23T07:35:29.149641Z"
    }
   },
   "id": "a72da36c6a9fd9f0"
  },
  {
   "cell_type": "code",
   "execution_count": 7,
   "outputs": [],
   "source": [
    "for i in range(int(x_test.shape[0] / batch_size)):\n",
    "    tx = x_test[i * batch_size : (i + 1) * batch_size]\n",
    "    tt = t_test[i * batch_size : (i + 1) * batch_size]\n",
    "    y = network.predict(tx, train_fig=False)\n",
    "    y = np.argmax(y, axis=1)\n",
    "    classified_idx.append(y)\n",
    "    acc += np.sum(y == tt)"
   ],
   "metadata": {
    "collapsed": false,
    "ExecuteTime": {
     "end_time": "2023-09-23T07:35:56.527162Z",
     "start_time": "2023-09-23T07:35:29.153370Z"
    }
   },
   "id": "7e2e0aeb3d02cf16"
  },
  {
   "cell_type": "code",
   "execution_count": 8,
   "outputs": [
    {
     "name": "stdout",
     "output_type": "stream",
     "text": [
      "test accuracy: 0.9942\n"
     ]
    }
   ],
   "source": [
    "acc = acc / x_test.shape[0]\n",
    "print(\"test accuracy: \" + str(acc))"
   ],
   "metadata": {
    "collapsed": false,
    "ExecuteTime": {
     "end_time": "2023-09-23T07:35:56.567706Z",
     "start_time": "2023-09-23T07:35:56.539915Z"
    }
   },
   "id": "6021d0fd71687638"
  },
  {
   "cell_type": "code",
   "execution_count": 9,
   "outputs": [],
   "source": [
    "classified_idx = np.array(classified_idx)\n",
    "classified_idx = classified_idx.flatten()"
   ],
   "metadata": {
    "collapsed": false,
    "ExecuteTime": {
     "end_time": "2023-09-23T07:35:56.582580Z",
     "start_time": "2023-09-23T07:35:56.567361Z"
    }
   },
   "id": "503f1d199c61cabb"
  },
  {
   "cell_type": "code",
   "execution_count": 10,
   "outputs": [],
   "source": [
    "max_view = 20\n",
    "current_view = 1"
   ],
   "metadata": {
    "collapsed": false,
    "ExecuteTime": {
     "end_time": "2023-09-23T07:35:56.592983Z",
     "start_time": "2023-09-23T07:35:56.577103Z"
    }
   },
   "id": "a27212bcea71f68b"
  },
  {
   "cell_type": "code",
   "execution_count": 11,
   "outputs": [
    {
     "data": {
      "text/plain": "<Figure size 640x480 with 0 Axes>"
     },
     "metadata": {},
     "output_type": "display_data"
    }
   ],
   "source": [
    "fig = plt.figure()\n",
    "fig.subplots_adjust(left=0, right=1, bottom=0, top=1, hspace=0.2, wspace=0.2)"
   ],
   "metadata": {
    "collapsed": false,
    "ExecuteTime": {
     "end_time": "2023-09-23T07:35:56.624203Z",
     "start_time": "2023-09-23T07:35:56.584266Z"
    }
   },
   "id": "6f4c78eab60c4629"
  },
  {
   "cell_type": "code",
   "execution_count": 12,
   "outputs": [],
   "source": [
    "mis_paris = {}\n",
    "for i, val in enumerate(classified_idx == t_test):\n",
    "    if not val:\n",
    "        ax = fig.add_subplot(4, 5, current_view, xticks=[], yticks=[])\n",
    "        ax.imshow(x_test[i].reshape(28, 28), cmap=plt.cm.gray_r, interpolation='nearest')\n",
    "        mis_paris[current_view] = (t_test[i], classified_idx[i])\n",
    "        \n",
    "        current_view += 1\n",
    "        if current_view > max_view:\n",
    "            break"
   ],
   "metadata": {
    "collapsed": false,
    "ExecuteTime": {
     "end_time": "2023-09-23T07:35:56.711911Z",
     "start_time": "2023-09-23T07:35:56.600057Z"
    }
   },
   "id": "8ffafe5c2cf6c932"
  },
  {
   "cell_type": "code",
   "execution_count": 13,
   "outputs": [
    {
     "name": "stdout",
     "output_type": "stream",
     "text": [
      "====== misclassified result ======\n",
      "{view index: (label, inference), ... }\n",
      "{1: (4, 6), 2: (4, 2), 3: (6, 0), 4: (4, 9), 5: (8, 2), 6: (6, 4), 7: (2, 7), 8: (7, 9), 9: (3, 5), 10: (8, 9), 11: (6, 0), 12: (7, 1), 13: (7, 2), 14: (9, 4), 15: (7, 1), 16: (9, 4), 17: (4, 9), 18: (5, 3), 19: (2, 0), 20: (4, 9)}\n"
     ]
    }
   ],
   "source": [
    "print(\"====== misclassified result ======\")\n",
    "print(\"{view index: (label, inference), ... }\")\n",
    "print(mis_paris)"
   ],
   "metadata": {
    "collapsed": false,
    "ExecuteTime": {
     "end_time": "2023-09-23T07:35:56.778223Z",
     "start_time": "2023-09-23T07:35:56.717859Z"
    }
   },
   "id": "b270e739d0548043"
  },
  {
   "cell_type": "code",
   "execution_count": 14,
   "outputs": [],
   "source": [
    "plt.show()"
   ],
   "metadata": {
    "collapsed": false,
    "ExecuteTime": {
     "end_time": "2023-09-23T07:35:56.778473Z",
     "start_time": "2023-09-23T07:35:56.773886Z"
    }
   },
   "id": "e3e4dfd45587508c"
  }
 ],
 "metadata": {
  "kernelspec": {
   "display_name": "Python 3",
   "language": "python",
   "name": "python3"
  },
  "language_info": {
   "codemirror_mode": {
    "name": "ipython",
    "version": 2
   },
   "file_extension": ".py",
   "mimetype": "text/x-python",
   "name": "python",
   "nbconvert_exporter": "python",
   "pygments_lexer": "ipython2",
   "version": "2.7.6"
  }
 },
 "nbformat": 4,
 "nbformat_minor": 5
}
