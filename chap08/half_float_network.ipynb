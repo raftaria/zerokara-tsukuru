{
 "cells": [
  {
   "cell_type": "code",
   "execution_count": 1,
   "id": "initial_id",
   "metadata": {
    "collapsed": true,
    "ExecuteTime": {
     "end_time": "2023-09-23T07:34:09.071684Z",
     "start_time": "2023-09-23T07:34:08.752821Z"
    }
   },
   "outputs": [],
   "source": [
    "import numpy as np\n",
    "import matplotlib.pyplot as plt\n",
    "from deep_convnet import DeepConvNet\n",
    "from dataset.mnist import load_mnist"
   ]
  },
  {
   "cell_type": "code",
   "execution_count": 2,
   "outputs": [],
   "source": [
    "(x_train, t_train), (x_test, t_test) = load_mnist(flatten=False)"
   ],
   "metadata": {
    "collapsed": false,
    "ExecuteTime": {
     "end_time": "2023-09-23T07:34:09.941660Z",
     "start_time": "2023-09-23T07:34:09.879798Z"
    }
   },
   "id": "2a4409e7f2d64174"
  },
  {
   "cell_type": "code",
   "execution_count": 3,
   "outputs": [],
   "source": [
    "network = DeepConvNet()\n",
    "network.load_params(\"deep_convnet_params.pkl\")\n",
    "\n",
    "# 고속화를 위한 표본 추출\n",
    "sampled = 10000\n",
    "x_test = x_test[:sampled]\n",
    "t_test = t_test[:sampled]"
   ],
   "metadata": {
    "collapsed": false,
    "ExecuteTime": {
     "end_time": "2023-09-23T07:34:10.361787Z",
     "start_time": "2023-09-23T07:34:10.354559Z"
    }
   },
   "id": "d0540af6a81ba1cc"
  },
  {
   "cell_type": "code",
   "execution_count": 4,
   "outputs": [
    {
     "name": "stdout",
     "output_type": "stream",
     "text": [
      "calculate accuracy (float64) ... \n",
      "0.9942\n"
     ]
    }
   ],
   "source": [
    "print(\"calculate accuracy (float64) ... \")\n",
    "print(network.accuracy(x_test, t_test))"
   ],
   "metadata": {
    "collapsed": false,
    "ExecuteTime": {
     "end_time": "2023-09-23T07:34:38.329431Z",
     "start_time": "2023-09-23T07:34:11.297653Z"
    }
   },
   "id": "1813c5c59d84323f"
  },
  {
   "cell_type": "code",
   "execution_count": 5,
   "outputs": [],
   "source": [
    "# float16(반정밀도)로 형변환\n",
    "x_test = x_test.astype(np.float16)\n",
    "for param in network.params.values():\n",
    "    param[...] = param.astype(np.float16)"
   ],
   "metadata": {
    "collapsed": false,
    "ExecuteTime": {
     "end_time": "2023-09-23T07:34:38.392578Z",
     "start_time": "2023-09-23T07:34:38.338140Z"
    }
   },
   "id": "f5072a1a35a74cab"
  },
  {
   "cell_type": "code",
   "execution_count": 6,
   "outputs": [
    {
     "name": "stdout",
     "output_type": "stream",
     "text": [
      "calculate accuracy (float16) ... \n",
      "0.9942\n"
     ]
    }
   ],
   "source": [
    "print(\"calculate accuracy (float16) ... \")\n",
    "print(network.accuracy(x_test, t_test))"
   ],
   "metadata": {
    "collapsed": false,
    "ExecuteTime": {
     "end_time": "2023-09-23T07:35:04.785644Z",
     "start_time": "2023-09-23T07:34:38.394667Z"
    }
   },
   "id": "a70d3c3c1433cc8e"
  },
  {
   "cell_type": "code",
   "execution_count": null,
   "outputs": [],
   "source": [],
   "metadata": {
    "collapsed": false
   },
   "id": "f0ee5d33dd8be41c"
  }
 ],
 "metadata": {
  "kernelspec": {
   "display_name": "Python 3",
   "language": "python",
   "name": "python3"
  },
  "language_info": {
   "codemirror_mode": {
    "name": "ipython",
    "version": 2
   },
   "file_extension": ".py",
   "mimetype": "text/x-python",
   "name": "python",
   "nbconvert_exporter": "python",
   "pygments_lexer": "ipython2",
   "version": "2.7.6"
  }
 },
 "nbformat": 4,
 "nbformat_minor": 5
}
